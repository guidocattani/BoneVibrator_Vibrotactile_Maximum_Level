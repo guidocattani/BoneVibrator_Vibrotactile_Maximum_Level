{
 "cells": [
  {
   "cell_type": "markdown",
   "id": "de9dc9ac",
   "metadata": {},
   "source": [
    "# Vibrotactile sensation thresholds elicited by a bone vibrator B81 on the mastoid."
   ]
  },
  {
   "cell_type": "markdown",
   "id": "69331124",
   "metadata": {},
   "source": [
    "Guido Cattani, 07-01-2023"
   ]
  },
  {
   "cell_type": "code",
   "execution_count": 1,
   "id": "ed105aac",
   "metadata": {},
   "outputs": [],
   "source": [
    "import numpy as np\n",
    "import pandas as pd"
   ]
  },
  {
   "cell_type": "code",
   "execution_count": 2,
   "id": "c8286788",
   "metadata": {},
   "outputs": [],
   "source": [
    "import matplotlib\n",
    "import matplotlib.pyplot as plt\n",
    "import seaborn as sns"
   ]
  },
  {
   "cell_type": "code",
   "execution_count": 3,
   "id": "a2671b1d",
   "metadata": {},
   "outputs": [],
   "source": [
    "def munging_data(fin):\n",
    "    # read input file, clean and mung data\n",
    "    df = pd.read_csv(fin)\n",
    "    df = df.drop(['Unnamed: 1', 'Unnamed: 2'], axis = 1)   # Deleate 2 columns\n",
    "    df = df.drop(2, axis = 0)                 # Deleate a blanc row\n",
    "    df.rename(columns={'Unnamed: 0':'Study'}, inplace=True)\n",
    "    df.reset_index(drop=True, inplace=True)\n",
    "    return df"
   ]
  },
  {
   "cell_type": "code",
   "execution_count": 4,
   "id": "91afd6bb",
   "metadata": {},
   "outputs": [],
   "source": [
    "def make_distribution(s):\n",
    "    distributions = list()\n",
    "    df1 = pd.DataFrame()\n",
    "    lf = [125, 250, 500, 750, 1000, 1500, 2000]\n",
    "    for j in range (1, len(s), 2): \n",
    "        avrg, st_dev = (s[j], s[j+1])\n",
    "        group = np.random.normal(loc=avrg,scale=st_dev,size=10000)\n",
    "        fn = int((j-1)/2)\n",
    "        df = pd.DataFrame(group)\n",
    "        df.rename(columns={0:lf[fn]}, inplace=True)\n",
    "        df1 = pd.concat([df1, df], axis=1)\n",
    "    col_names = df1.columns.tolist()\n",
    "    df1 = pd.melt(df1, value_vars=col_names, var_name='Frequency [Hz]', \n",
    "                        value_name='Vibrotactile_Threshold [dBHL]', \n",
    "                        col_level=None, ignore_index=True)\n",
    "    return df1"
   ]
  },
  {
   "cell_type": "code",
   "execution_count": 5,
   "id": "e06bff0a",
   "metadata": {},
   "outputs": [],
   "source": [
    "def change_columns_names(df):\n",
    "    c_names = list(df)\n",
    "    map_names = {}\n",
    "    for name in c_names:\n",
    "        new_name = ''.join(filter(str.isdigit, name))\n",
    "        new_name = int(new_name)\n",
    "        change = {name: new_name}\n",
    "        map_names.update(change)\n",
    "    df.rename(mapper=map_names, axis=1, inplace=True)\n",
    "    return df"
   ]
  },
  {
   "cell_type": "code",
   "execution_count": 6,
   "id": "ce84c03e",
   "metadata": {},
   "outputs": [],
   "source": [
    "def select_means(df):\n",
    "    head = df['Study']\n",
    "    means = df.loc[:, ['VBT_125', 'VBT_250', 'VBT_500', \n",
    "                       'VBT_750', 'VBT_1000', 'VBT_1500', 'VBT_2000']]\n",
    "    means = change_columns_names(means)\n",
    "    means.insert(0, 'Study', head)\n",
    "    return means"
   ]
  },
  {
   "cell_type": "code",
   "execution_count": 7,
   "id": "24071914",
   "metadata": {},
   "outputs": [],
   "source": [
    "def make_dataframe(df):\n",
    "    collection_array = generate_collections(df)\n",
    "    collection_frame = pd.DataFrame(collection_array).T\n",
    "    collection_frame.reset_index(inplace=True)\n",
    "    collection_frame.rename(columns={'index':'Study'}, inplace=True)\n",
    "    means = select_means(df)\n",
    "    iso = means.iloc[2:]\n",
    "    collection_frame = pd.concat([collection_frame, iso])\n",
    "    return collection_frame"
   ]
  },
  {
   "cell_type": "code",
   "execution_count": 8,
   "id": "f9f56fad",
   "metadata": {},
   "outputs": [],
   "source": [
    "def iso_long(df):\n",
    "    means = select_means(df)\n",
    "    iso = means[means['Study'] == 'ISO 8253-1 (2010)']\n",
    "    col_names = iso.columns.tolist()\n",
    "    col_names = col_names[1:]\n",
    "    iso_l = pd.melt(iso, id_vars=\"Study\", value_vars=col_names, var_name='Frequency [Hz]', \n",
    "                        value_name='Vibrotactile_Threshold [dBHL]', \n",
    "                        col_level=None, ignore_index=True)\n",
    "    iso_l.astype({'Frequency [Hz]': 'str'}).dtypes\n",
    "    return iso_l"
   ]
  },
  {
   "cell_type": "code",
   "execution_count": 9,
   "id": "aea31301",
   "metadata": {},
   "outputs": [],
   "source": [
    "def data_long(df):\n",
    "    collections = {}\n",
    "    total = pd.DataFrame()\n",
    "    for i in range(2):\n",
    "        s = df.iloc[i]\n",
    "        distributions = make_distribution(s)\n",
    "        name = df.iat[i, 0]\n",
    "        m = len(distributions)\n",
    "        l = list()\n",
    "        for i in range(m): l.append(name)\n",
    "        std = pd.DataFrame(l)\n",
    "        std.rename({0:'Study'}, axis=1, inplace=True)\n",
    "        frame = pd.concat([std, distributions], axis=1)\n",
    "        total = pd.concat([total, frame])\n",
    "    total.astype({'Frequency [Hz]': 'str'}).dtypes\n",
    "    iso = iso_long(df)\n",
    "    total = pd.concat([iso, total])\n",
    "    total.reset_index(drop=True, inplace=True)\n",
    "    return total"
   ]
  },
  {
   "cell_type": "code",
   "execution_count": 10,
   "id": "3bbae4ec",
   "metadata": {},
   "outputs": [],
   "source": [
    "def show_scatter(df_long):\n",
    "    # make a scatterplot\n",
    "    sns.set_style(\"whitegrid\")\n",
    "\n",
    "    ax = sns.pointplot(data=df_long, x=df_long['Frequency [Hz]'], \n",
    "                       y=df_long['Vibrotactile_Threshold [dBHL]'], hue=df_long['Study'], \n",
    "                       estimator='mean', errorbar='sd', dodge=0.3, join=False, \n",
    "                       palette='colorblind') \n",
    "\n",
    "    plt.ylim(reversed(plt.ylim(0, 100))) # reverse y as\n",
    "    ax.xaxis.set_ticks_position('top')   # place x axes on top\n",
    "    ax.xaxis.set_label_position('top')   # place x label on top\n",
    "    plt.grid(visible=True, which='major', axis='both') # add horizon. & vertical rasters\n",
    "    \n",
    "    # place legend outside plot top right corner\n",
    "    plt.legend(bbox_to_anchor=(1.02, 1), loc='upper left', borderaxespad=0)\n",
    "    \n",
    "    plt.savefig(\"/media/guido/LACIE/Beengeleiding/b81_vbt.png\", \n",
    "                dpi=300, bbox_inches = \"tight\")\n",
    "\n",
    "    plt.show()"
   ]
  },
  {
   "cell_type": "code",
   "execution_count": 11,
   "id": "2217951b",
   "metadata": {},
   "outputs": [],
   "source": [
    "def data_plot(fin):\n",
    "    data = munging_data(fin)\n",
    "    dlong = data_long(data)\n",
    "    show_scatter(dlong)\n",
    "    return data"
   ]
  },
  {
   "cell_type": "code",
   "execution_count": 12,
   "id": "a72dc763",
   "metadata": {},
   "outputs": [],
   "source": [
    "file_in = \"/media/guido/LACIE/Beengeleiding/B81_vibrotactile_thresholds.csv\""
   ]
  },
  {
   "cell_type": "code",
   "execution_count": 13,
   "id": "dc52dbd7",
   "metadata": {},
   "outputs": [
    {
     "data": {
      "image/png": "[encoded data removed]",
      "text/plain": [
       "<Figure size 640x480 with 1 Axes>"
      ]
     },
     "metadata": {},
     "output_type": "display_data"
    },
    {
     "data": {
      "text/html": [
       "<div>\n",
       "<style scoped>\n",
       "    .dataframe tbody tr th:only-of-type {\n",
       "        vertical-align: middle;\n",
       "    }\n",
       "\n",
       "    .dataframe tbody tr th {\n",
       "        vertical-align: top;\n",
       "    }\n",
       "\n",
       "    .dataframe thead th {\n",
       "        text-align: right;\n",
       "    }\n",
       "</style>\n",
       "<table border=\"1\" class=\"dataframe\">\n",
       "  <thead>\n",
       "    <tr style=\"text-align: right;\">\n",
       "      <th></th>\n",
       "      <th>Study</th>\n",
       "      <th>VBT_125</th>\n",
       "      <th>SD_125</th>\n",
       "      <th>VBT_250</th>\n",
       "      <th>SD_250</th>\n",
       "      <th>VBT_500</th>\n",
       "      <th>SD_500</th>\n",
       "      <th>VBT_750</th>\n",
       "      <th>SD_750</th>\n",
       "      <th>VBT_1000</th>\n",
       "      <th>SD_1000</th>\n",
       "      <th>VBT_1500</th>\n",
       "      <th>SD_1500</th>\n",
       "      <th>VBT_2000</th>\n",
       "      <th>SD_2000</th>\n",
       "    </tr>\n",
       "  </thead>\n",
       "  <tbody>\n",
       "    <tr>\n",
       "      <th>0</th>\n",
       "      <td>Eichenauer et al., B81</td>\n",
       "      <td>NaN</td>\n",
       "      <td>NaN</td>\n",
       "      <td>35.0</td>\n",
       "      <td>5.0</td>\n",
       "      <td>55.0</td>\n",
       "      <td>3.0</td>\n",
       "      <td>NaN</td>\n",
       "      <td>NaN</td>\n",
       "      <td>75.0</td>\n",
       "      <td>3.0</td>\n",
       "      <td>NaN</td>\n",
       "      <td>NaN</td>\n",
       "      <td>NaN</td>\n",
       "      <td>NaN</td>\n",
       "    </tr>\n",
       "    <tr>\n",
       "      <th>1</th>\n",
       "      <td>Jansson et al., B81</td>\n",
       "      <td>17.0</td>\n",
       "      <td>7.0</td>\n",
       "      <td>40.0</td>\n",
       "      <td>11.0</td>\n",
       "      <td>63.0</td>\n",
       "      <td>9.0</td>\n",
       "      <td>71.0</td>\n",
       "      <td>7.0</td>\n",
       "      <td>72.0</td>\n",
       "      <td>8.0</td>\n",
       "      <td>79.0</td>\n",
       "      <td>11.0</td>\n",
       "      <td>84.0</td>\n",
       "      <td>11.0</td>\n",
       "    </tr>\n",
       "    <tr>\n",
       "      <th>2</th>\n",
       "      <td>ISO 8253-1 (2010)</td>\n",
       "      <td>NaN</td>\n",
       "      <td>NaN</td>\n",
       "      <td>40.0</td>\n",
       "      <td>NaN</td>\n",
       "      <td>60.0</td>\n",
       "      <td>NaN</td>\n",
       "      <td>NaN</td>\n",
       "      <td>NaN</td>\n",
       "      <td>70.0</td>\n",
       "      <td>NaN</td>\n",
       "      <td>NaN</td>\n",
       "      <td>NaN</td>\n",
       "      <td>NaN</td>\n",
       "      <td>NaN</td>\n",
       "    </tr>\n",
       "  </tbody>\n",
       "</table>\n",
       "</div>"
      ],
      "text/plain": [
       "                    Study  VBT_125  SD_125  VBT_250  SD_250  VBT_500  SD_500  \\\n",
       "0  Eichenauer et al., B81      NaN     NaN     35.0     5.0     55.0     3.0   \n",
       "1     Jansson et al., B81     17.0     7.0     40.0    11.0     63.0     9.0   \n",
       "2       ISO 8253-1 (2010)      NaN     NaN     40.0     NaN     60.0     NaN   \n",
       "\n",
       "   VBT_750  SD_750  VBT_1000  SD_1000  VBT_1500  SD_1500  VBT_2000  SD_2000  \n",
       "0      NaN     NaN      75.0      3.0       NaN      NaN       NaN      NaN  \n",
       "1     71.0     7.0      72.0      8.0      79.0     11.0      84.0     11.0  \n",
       "2      NaN     NaN      70.0      NaN       NaN      NaN       NaN      NaN  "
      ]
     },
     "execution_count": 13,
     "metadata": {},
     "output_type": "execute_result"
    }
   ],
   "source": [
    "# make a scatterplot of vibrotactile sensation thresholds with B81 from literature\n",
    "# error bars = 1 SD\n",
    "data_plot(file_in)"
   ]
  },
  {
   "cell_type": "markdown",
   "id": "580f01a8",
   "metadata": {},
   "source": [
    "Data are taken from:\n",
    "\n",
    "Eichenauer, A., Dillon, H., Clinch, B., & Loi, T. (2014). Effect of bone-conduction harmonic distortions on hearing thresholds. The Journal of the Acoustical Society of America, 136(2), EL96–EL102. https://doi.org/10.1121/1.4885771\n",
    "\n",
    "Fredén Jansson, K. J., Håkansson, B., Reinfeldt, S., Fröhlich, L., & Rahne, T. (2017). Vibrotactile Thresholds on the Mastoid and Forehead Position of Deaf Patients Using Radioear B71 and B81. Ear and hearing, 38(6), 714–723. https://doi.org/10.1097/AUD.0000000000000456"
   ]
  }
 ],
 "metadata": {
  "kernelspec": {
   "display_name": "Python 3 (ipykernel)",
   "language": "python",
   "name": "python3"
  },
  "language_info": {
   "codemirror_mode": {
    "name": "ipython",
    "version": 3
   },
   "file_extension": ".py",
   "mimetype": "text/x-python",
   "name": "python",
   "nbconvert_exporter": "python",
   "pygments_lexer": "ipython3",
   "version": "3.8.12"
  }
 },
 "nbformat": 4,
 "nbformat_minor": 5
}
