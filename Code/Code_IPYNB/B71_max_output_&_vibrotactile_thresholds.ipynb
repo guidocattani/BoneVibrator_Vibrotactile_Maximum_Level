{
 "cells": [
  {
   "cell_type": "markdown",
   "id": "de9dc9ac",
   "metadata": {},
   "source": [
    "# B71 bone vibrator maximal hearing level output and vibrotactile thresholds (Jansson et al., 2015 & 2017)."
   ]
  },
  {
   "cell_type": "markdown",
   "id": "69331124",
   "metadata": {},
   "source": [
    "Guido Cattani, 15-01-2023"
   ]
  },
  {
   "cell_type": "code",
   "execution_count": 1,
   "id": "ed105aac",
   "metadata": {},
   "outputs": [],
   "source": [
    "import numpy as np\n",
    "import pandas as pd"
   ]
  },
  {
   "cell_type": "code",
   "execution_count": 2,
   "id": "c8286788",
   "metadata": {},
   "outputs": [],
   "source": [
    "import matplotlib\n",
    "import matplotlib.pyplot as plt\n",
    "import seaborn as sns"
   ]
  },
  {
   "cell_type": "code",
   "execution_count": 3,
   "id": "a2671b1d",
   "metadata": {},
   "outputs": [],
   "source": [
    "def read_data_max(fin=\"/media/guido/LACIE/Beengeleiding/Max_output_Jansson_B81&B71.csv\"):\n",
    "    # read input file, clean and mung data\n",
    "    df = pd.read_csv(fin)\n",
    "    df.set_index('Unnamed: 0', drop=True, inplace=True)\n",
    "    df.index.names = ['Data_type']\n",
    "    return df"
   ]
  },
  {
   "cell_type": "code",
   "execution_count": 4,
   "id": "cfabf328",
   "metadata": {},
   "outputs": [],
   "source": [
    "def read_data_VBT(fin=\"/media/guido/LACIE/Beengeleiding/B71_vibrotactile_thresholds.csv\"):\n",
    "    # read input file, clean and mung data\n",
    "    df = pd.read_csv(fin)\n",
    "    df = df.drop(['Unnamed: 0', 'Unnamed: 1', 'Unnamed: 2'], axis = 1)   # Deleate 2 columns\n",
    "    df = df.drop([0, 2, 3], axis = 0)                 # Deleate a blanc row\n",
    "    new = {0:'125', 1:'250', 2:'500', 3:'750', 4:'1000', 5:'1500', 6:'2000'}\n",
    "    vbt = df[['VBT_125', 'VBT_250', 'VBT_500', 'VBT_750', 'VBT_1000', 'VBT_1500', 'VBT_2000']].T\n",
    "    vbt.reset_index(drop=True, inplace=True)\n",
    "    vbt.rename(new, inplace=True)\n",
    "    vbt.rename(columns={1:'Mean_Vibrotactile_Thresholds_B71'}, inplace=True)\n",
    "    sd = df[['SD_125', 'SD_250', 'SD_500', 'SD_750', 'SD_1000', 'SD_1500', 'SD_2000']].T\n",
    "    sd.reset_index(drop=True, inplace=True)\n",
    "    sd.rename(new, inplace=True)\n",
    "    sd.rename(columns={1:'SD_Vibrotactile_Thresholds_B71'}, inplace=True)\n",
    "    df1 = pd.concat([vbt, sd], axis=1).T\n",
    "    return df1"
   ]
  },
  {
   "cell_type": "code",
   "execution_count": 5,
   "id": "765f3c50",
   "metadata": {},
   "outputs": [],
   "source": [
    "def munging_data():\n",
    "    vbt = read_data_VBT()\n",
    "    max_out = read_data_max()\n",
    "    df = pd.concat([max_out, vbt])\n",
    "    df.drop(['Max_hl_B81', 'SD_max_hl_B81'], inplace=True)\n",
    "    c125 = df.pop('125')\n",
    "    df = pd.concat([c125, df], axis=1)\n",
    "    return df"
   ]
  },
  {
   "cell_type": "code",
   "execution_count": 6,
   "id": "90968163",
   "metadata": {},
   "outputs": [],
   "source": [
    "def splitting_data():\n",
    "    # input max_otput data, \n",
    "    # output is df with f as index and as colums tuples (max_otput, sd) for B81 & B71\n",
    "    df = munging_data()\n",
    "    l = list()                                         # empty list\n",
    "    st = pd.Series(dtype = 'float')                    # empty series\n",
    "    df1 = pd.DataFrame()                               # empty dataframe\n",
    "    for i in df.index:                                 # separate data lines\n",
    "        s = df.loc[i]                                    \n",
    "        l.append(s)                                    # make list of data lines \n",
    "    for j in range(0, len(l), 2):\n",
    "        smo = l[j]                                     # series with ouput data\n",
    "        ssd = l[j+1]                                   # series with sd data\n",
    "        for f in smo.index:                            # freq. recursor\n",
    "            t = (smo[f], ssd[f])                       # make a tuple with max output & sd\n",
    "            st.at[f] = t                               # create a series of tuples\n",
    "            st.name = smo.name                         # series name = name data line\n",
    "        df1 = pd.concat([df1, st], axis = 1)           # all frequencies\n",
    "    return df1"
   ]
  },
  {
   "cell_type": "code",
   "execution_count": 7,
   "id": "91afd6bb",
   "metadata": {},
   "outputs": [],
   "source": [
    "def make_distribution():\n",
    "    # this function create a long dataframe\n",
    "    df = splitting_data()\n",
    "    df1 = pd.DataFrame()                               # empty dataframe\n",
    "    col_names = list(df.columns)\n",
    "    for vibrator_name in col_names:\n",
    "        s = df[vibrator_name]                          # separate data rows\n",
    "        l = list()                                     # empty list\n",
    "        distributions = create_arrays(s)               # df with all freq. distributions\n",
    "        for i in range(len(distributions)): l.append(vibrator_name)# add data/vibrator name\n",
    "        svn = pd.Series(l, name = 'data_name')\n",
    "        df2 = pd.concat([svn, distributions], axis = 1)\n",
    "        df1 = pd.concat([df1, df2])                    # B81 & B71 together\n",
    "    \n",
    "    # from wide to long: unpivot data\n",
    "    df1 = pd.melt(df1, id_vars = 'data_name', var_name='Frequency [Hz]', \n",
    "                        value_name='Hearing Levels [dBHL]', \n",
    "                        col_level=None, ignore_index=True)\n",
    "    return df1"
   ]
  },
  {
   "cell_type": "code",
   "execution_count": 8,
   "id": "8db551e3",
   "metadata": {},
   "outputs": [],
   "source": [
    "def create_arrays(s):\n",
    "    # function to create per frequency a distribution n=10000 with average and SD from data\n",
    "    df = pd.DataFrame(dtype = 'float')\n",
    "    for f in s.index: \n",
    "        avrg, st_dev = (s[f])\n",
    "        distribution = np.random.normal(loc=avrg,scale=st_dev,size=10000)\n",
    "        line = pd.Series(distribution, dtype = 'float', name = f)\n",
    "        df = pd.concat([df, line], axis = 1)\n",
    "    return df"
   ]
  },
  {
   "cell_type": "code",
   "execution_count": 9,
   "id": "3bbae4ec",
   "metadata": {},
   "outputs": [],
   "source": [
    "def show_scatter():\n",
    "    df = make_distribution() # plot input data\n",
    "    \n",
    "    # make a scatterplot\n",
    "    sns.set_style(\"whitegrid\")\n",
    "\n",
    "    ax = sns.pointplot(data=df, x=df['Frequency [Hz]'], \n",
    "                       y=df['Hearing Levels [dBHL]'], hue=df['data_name'], \n",
    "                       estimator='mean', errorbar='sd', dodge=0.2, join=True,\n",
    "                       palette='colorblind') \n",
    "\n",
    "    plt.ylim(reversed(plt.ylim(0, 100))) # reverse y as\n",
    "    ax.xaxis.set_ticks_position('top')   # place x axes on top\n",
    "    ax.xaxis.set_label_position('top')   # place x label on top\n",
    "    plt.grid(visible=True, which='major', axis='both') # add horizon. & vertical rasters\n",
    "\n",
    "    # place legend outside plot top right corner\n",
    "    plt.legend(bbox_to_anchor=(1.02, 1), loc='upper left', borderaxespad=0)\n",
    "\n",
    "    plt.savefig(\"/media/guido/LACIE/Beengeleiding/b71_max_&_vbt.png\", \n",
    "                dpi=300, bbox_inches = \"tight\")\n",
    "    plt.show()"
   ]
  },
  {
   "cell_type": "code",
   "execution_count": 10,
   "id": "88335839",
   "metadata": {},
   "outputs": [],
   "source": [
    "def execution():\n",
    "    data = munging_data()\n",
    "    show_scatter()\n",
    "    return data"
   ]
  },
  {
   "cell_type": "code",
   "execution_count": 11,
   "id": "9d93abde",
   "metadata": {},
   "outputs": [
    {
     "data": {
      "image/png": "[encoded data removed]",
      "text/plain": [
       "<Figure size 640x480 with 1 Axes>"
      ]
     },
     "metadata": {},
     "output_type": "display_data"
    },
    {
     "data": {
      "text/html": [
       "<div>\n",
       "<style scoped>\n",
       "    .dataframe tbody tr th:only-of-type {\n",
       "        vertical-align: middle;\n",
       "    }\n",
       "\n",
       "    .dataframe tbody tr th {\n",
       "        vertical-align: top;\n",
       "    }\n",
       "\n",
       "    .dataframe thead th {\n",
       "        text-align: right;\n",
       "    }\n",
       "</style>\n",
       "<table border=\"1\" class=\"dataframe\">\n",
       "  <thead>\n",
       "    <tr style=\"text-align: right;\">\n",
       "      <th></th>\n",
       "      <th>125</th>\n",
       "      <th>250</th>\n",
       "      <th>500</th>\n",
       "      <th>750</th>\n",
       "      <th>1000</th>\n",
       "      <th>1500</th>\n",
       "      <th>2000</th>\n",
       "      <th>3000</th>\n",
       "      <th>4000</th>\n",
       "      <th>6000</th>\n",
       "      <th>8000</th>\n",
       "    </tr>\n",
       "  </thead>\n",
       "  <tbody>\n",
       "    <tr>\n",
       "      <th>Max_hl_B71</th>\n",
       "      <td>NaN</td>\n",
       "      <td>30.6</td>\n",
       "      <td>61.0</td>\n",
       "      <td>62.6</td>\n",
       "      <td>75.9</td>\n",
       "      <td>91.6</td>\n",
       "      <td>86.1</td>\n",
       "      <td>85.8</td>\n",
       "      <td>85.0</td>\n",
       "      <td>62.8</td>\n",
       "      <td>59.7</td>\n",
       "    </tr>\n",
       "    <tr>\n",
       "      <th>SD_max_hl_B71</th>\n",
       "      <td>NaN</td>\n",
       "      <td>2.5</td>\n",
       "      <td>2.0</td>\n",
       "      <td>2.2</td>\n",
       "      <td>2.6</td>\n",
       "      <td>1.0</td>\n",
       "      <td>2.0</td>\n",
       "      <td>0.6</td>\n",
       "      <td>0.5</td>\n",
       "      <td>0.7</td>\n",
       "      <td>2.0</td>\n",
       "    </tr>\n",
       "    <tr>\n",
       "      <th>Mean_Vibrotactile_Thresholds_B71</th>\n",
       "      <td>13.0</td>\n",
       "      <td>39.0</td>\n",
       "      <td>62.0</td>\n",
       "      <td>70.0</td>\n",
       "      <td>72.0</td>\n",
       "      <td>81.0</td>\n",
       "      <td>87.0</td>\n",
       "      <td>NaN</td>\n",
       "      <td>NaN</td>\n",
       "      <td>NaN</td>\n",
       "      <td>NaN</td>\n",
       "    </tr>\n",
       "    <tr>\n",
       "      <th>SD_Vibrotactile_Thresholds_B71</th>\n",
       "      <td>6.0</td>\n",
       "      <td>7.0</td>\n",
       "      <td>7.0</td>\n",
       "      <td>5.0</td>\n",
       "      <td>3.0</td>\n",
       "      <td>5.0</td>\n",
       "      <td>4.0</td>\n",
       "      <td>NaN</td>\n",
       "      <td>NaN</td>\n",
       "      <td>NaN</td>\n",
       "      <td>NaN</td>\n",
       "    </tr>\n",
       "  </tbody>\n",
       "</table>\n",
       "</div>"
      ],
      "text/plain": [
       "                                   125   250   500   750  1000  1500  2000  \\\n",
       "Max_hl_B71                         NaN  30.6  61.0  62.6  75.9  91.6  86.1   \n",
       "SD_max_hl_B71                      NaN   2.5   2.0   2.2   2.6   1.0   2.0   \n",
       "Mean_Vibrotactile_Thresholds_B71  13.0  39.0  62.0  70.0  72.0  81.0  87.0   \n",
       "SD_Vibrotactile_Thresholds_B71     6.0   7.0   7.0   5.0   3.0   5.0   4.0   \n",
       "\n",
       "                                  3000  4000  6000  8000  \n",
       "Max_hl_B71                        85.8  85.0  62.8  59.7  \n",
       "SD_max_hl_B71                      0.6   0.5   0.7   2.0  \n",
       "Mean_Vibrotactile_Thresholds_B71   NaN   NaN   NaN   NaN  \n",
       "SD_Vibrotactile_Thresholds_B71     NaN   NaN   NaN   NaN  "
      ]
     },
     "execution_count": 11,
     "metadata": {},
     "output_type": "execute_result"
    }
   ],
   "source": [
    "execution()"
   ]
  },
  {
   "cell_type": "markdown",
   "id": "b9b1de16",
   "metadata": {},
   "source": [
    "Data are taken from:\n",
    "\n",
    "Karl-Johan Fredén Jansson, Bo Håkansson, Leif Johannsen & Tomas Tengstrand (2015) \n",
    "Electro-acoustic performance of the new bone vibrator Radioear B81: \n",
    "A comparison with the conventional Radioear B71, \n",
    "International Journal of Audiology, 54:5, 334-340, \n",
    "DOI: 10.3109/14992027.2014.980521\n",
    "\n",
    "Fredén Jansson, K. J., Håkansson, B., Reinfeldt, S., Fröhlich, L., & Rahne, T. (2017). Vibrotactile Thresholds on the Mastoid and Forehead Position of Deaf Patients Using Radioear B71 and B81. Ear and hearing, 38(6), 714–723. https://doi.org/10.1097/AUD.0000000000000456\n"
   ]
  }
 ],
 "metadata": {
  "kernelspec": {
   "display_name": "Python 3 (ipykernel)",
   "language": "python",
   "name": "python3"
  },
  "language_info": {
   "codemirror_mode": {
    "name": "ipython",
    "version": 3
   },
   "file_extension": ".py",
   "mimetype": "text/x-python",
   "name": "python",
   "nbconvert_exporter": "python",
   "pygments_lexer": "ipython3",
   "version": "3.8.12"
  }
 },
 "nbformat": 4,
 "nbformat_minor": 5
}
