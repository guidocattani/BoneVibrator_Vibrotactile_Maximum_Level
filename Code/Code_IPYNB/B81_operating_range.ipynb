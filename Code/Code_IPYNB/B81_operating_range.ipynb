{
 "cells": [
  {
   "cell_type": "markdown",
   "id": "de9dc9ac",
   "metadata": {},
   "source": [
    "# B81 bone vibrator operating range (Jansson et al., 2015 & 2017)."
   ]
  },
  {
   "cell_type": "markdown",
   "id": "69331124",
   "metadata": {},
   "source": [
    "Guido Cattani, 15-01-2023"
   ]
  },
  {
   "cell_type": "code",
   "execution_count": 1,
   "id": "ed105aac",
   "metadata": {},
   "outputs": [],
   "source": [
    "import numpy as np\n",
    "import pandas as pd"
   ]
  },
  {
   "cell_type": "code",
   "execution_count": 2,
   "id": "c8286788",
   "metadata": {},
   "outputs": [],
   "source": [
    "import matplotlib\n",
    "import matplotlib.pyplot as plt\n",
    "import seaborn as sns"
   ]
  },
  {
   "cell_type": "code",
   "execution_count": 3,
   "id": "a2671b1d",
   "metadata": {},
   "outputs": [],
   "source": [
    "def read_data_max(fin=\"/media/guido/LACIE/Beengeleiding/Max_output_Jansson_B81&B71.csv\"):\n",
    "    # read input file, clean and mung data\n",
    "    df = pd.read_csv(fin)\n",
    "    df.set_index('Unnamed: 0', drop=True, inplace=True)\n",
    "    df.index.names = ['Data_type']\n",
    "    return df"
   ]
  },
  {
   "cell_type": "code",
   "execution_count": 4,
   "id": "85a04550",
   "metadata": {},
   "outputs": [],
   "source": [
    "def read_data_VBT(fin=\"/media/guido/LACIE/Beengeleiding/B81_vibrotactile_thresholds.csv\"):\n",
    "    # read input file, clean and mung data\n",
    "    df = pd.read_csv(fin)\n",
    "    df = df.drop(['Unnamed: 0', 'Unnamed: 1', 'Unnamed: 2'], axis = 1)   # Deleate 2 columns\n",
    "    df = df.drop([0, 2, 3], axis = 0)                 # Deleate a blanc row\n",
    "    new = {0:'125', 1:'250', 2:'500', 3:'750', 4:'1000', 5:'1500', 6:'2000'}\n",
    "    vbt = df[['VBT_125', 'VBT_250', 'VBT_500', 'VBT_750', 'VBT_1000', 'VBT_1500', 'VBT_2000']].T\n",
    "    vbt.reset_index(drop=True, inplace=True)\n",
    "    vbt.rename(new, inplace=True)\n",
    "    vbt.rename(columns={1:'Mean_Vibrotactile_Thresholds_B81'}, inplace=True)\n",
    "    sd = df[['SD_125', 'SD_250', 'SD_500', 'SD_750', 'SD_1000', 'SD_1500', 'SD_2000']].T\n",
    "    sd.reset_index(drop=True, inplace=True)\n",
    "    sd.rename(new, inplace=True)\n",
    "    sd.rename(columns={1:'SD_Vibrotactile_Thresholds_B81'}, inplace=True)\n",
    "    df1 = pd.concat([vbt, sd], axis=1).T\n",
    "    return df1"
   ]
  },
  {
   "cell_type": "code",
   "execution_count": 5,
   "id": "1cd10a1f",
   "metadata": {},
   "outputs": [],
   "source": [
    "def munging_data():\n",
    "    vbt = read_data_VBT()\n",
    "    max_out = read_data_max()\n",
    "    df = pd.concat([max_out, vbt])\n",
    "    df.drop(['Max_hl_B71', 'SD_max_hl_B71'], inplace=True)\n",
    "    c125 = df.pop('125')\n",
    "    df = pd.concat([c125, df], axis=1)\n",
    "    return df"
   ]
  },
  {
   "cell_type": "code",
   "execution_count": 6,
   "id": "f9a9c924",
   "metadata": {},
   "outputs": [],
   "source": [
    "def calc_B81_ranges():\n",
    "    df = munging_data()\n",
    "    max_out_min_2sd = df.loc['Max_hl_B81'] - 2 * df.loc['SD_max_hl_B81']\n",
    "    vbt_min_2sd = df.loc['Mean_Vibrotactile_Thresholds_B81'] - 2 * df.loc['SD_Vibrotactile_Thresholds_B81']\n",
    "    data_min2sd = pd.DataFrame([max_out_min_2sd, vbt_min_2sd])\n",
    "    lower = data_min2sd.min(axis=0)\n",
    "    upper = data_min2sd.max(axis=0)\n",
    "    b81_ranges = pd.DataFrame([lower, upper])\n",
    "    b81_ranges = np.trunc(b81_ranges)\n",
    "    b81_ranges.drop('125', axis=1, inplace=True)\n",
    "    b81_ranges = b81_ranges.astype('int')\n",
    "    b81_ranges.rename({0:'B81 normal range', \n",
    "                      1:'B81 extended range'}, inplace=True)\n",
    "\n",
    "    return b81_ranges"
   ]
  },
  {
   "cell_type": "code",
   "execution_count": 7,
   "id": "b5102245",
   "metadata": {},
   "outputs": [],
   "source": [
    "def b81_rages_long():\n",
    "    df = calc_B81_ranges()\n",
    "    col_names = df.columns.values.tolist()\n",
    "    df.reset_index(inplace=True)\n",
    "    df.rename({'index': 'Range'}, axis=1, inplace=True)\n",
    "    df1 = pd.melt(df, id_vars='Range', value_vars=col_names, var_name='Frequency [Hz]', \n",
    "                        value_name='Hearing_levels [dBHL]', \n",
    "                        col_level=None, ignore_index=True)\n",
    "    return df1"
   ]
  },
  {
   "cell_type": "code",
   "execution_count": 8,
   "id": "3bbae4ec",
   "metadata": {},
   "outputs": [],
   "source": [
    "def show_plot():\n",
    "    df = b81_rages_long() # plot input data\n",
    "    \n",
    "    # make a scatterplot\n",
    "    sns.set_style(\"whitegrid\")\n",
    "\n",
    "    ax = sns.lineplot(data=df, x=df['Frequency [Hz]'], y=df['Hearing_levels [dBHL]'], \n",
    "                      hue=df['Range'], palette='colorblind', \n",
    "                      hue_order=['B81 extended range', 'B81 normal range']) \n",
    "\n",
    "    plt.ylim(reversed(plt.ylim(0, 100))) # reverse y as\n",
    "    ax.xaxis.set_ticks_position('top')   # place x axes on top\n",
    "    ax.xaxis.set_label_position('top')   # place x label on top\n",
    "    plt.grid(visible=True, which='major', axis='both') # add horizon. & vertical rasters\n",
    "\n",
    "    # place legend outside plot top right corner\n",
    "    plt.legend(bbox_to_anchor=(1.02, 1), loc='upper left', borderaxespad=0)\n",
    "    \n",
    "    plt.savefig(\"/media/guido/LACIE/Beengeleiding/b81_operating_range.png\", \n",
    "                dpi=300, bbox_inches = \"tight\")\n",
    "    plt.show()"
   ]
  },
  {
   "cell_type": "code",
   "execution_count": 9,
   "id": "88335839",
   "metadata": {},
   "outputs": [],
   "source": [
    "def execution():\n",
    "    data = calc_B81_ranges()\n",
    "    data.to_csv('/media/guido/LACIE/Beengeleiding/b81_operating_range.csv')\n",
    "    show_plot()\n",
    "    return data"
   ]
  },
  {
   "cell_type": "code",
   "execution_count": 10,
   "id": "9d93abde",
   "metadata": {},
   "outputs": [
    {
     "data": {
      "image/png": "[encoded data removed]",
      "text/plain": [
       "<Figure size 640x480 with 1 Axes>"
      ]
     },
     "metadata": {},
     "output_type": "display_data"
    },
    {
     "data": {
      "text/html": [
       "<div>\n",
       "<style scoped>\n",
       "    .dataframe tbody tr th:only-of-type {\n",
       "        vertical-align: middle;\n",
       "    }\n",
       "\n",
       "    .dataframe tbody tr th {\n",
       "        vertical-align: top;\n",
       "    }\n",
       "\n",
       "    .dataframe thead th {\n",
       "        text-align: right;\n",
       "    }\n",
       "</style>\n",
       "<table border=\"1\" class=\"dataframe\">\n",
       "  <thead>\n",
       "    <tr style=\"text-align: right;\">\n",
       "      <th></th>\n",
       "      <th>250</th>\n",
       "      <th>500</th>\n",
       "      <th>750</th>\n",
       "      <th>1000</th>\n",
       "      <th>1500</th>\n",
       "      <th>2000</th>\n",
       "      <th>3000</th>\n",
       "      <th>4000</th>\n",
       "      <th>6000</th>\n",
       "      <th>8000</th>\n",
       "    </tr>\n",
       "  </thead>\n",
       "  <tbody>\n",
       "    <tr>\n",
       "      <th>B81 normal range</th>\n",
       "      <td>18</td>\n",
       "      <td>45</td>\n",
       "      <td>57</td>\n",
       "      <td>56</td>\n",
       "      <td>57</td>\n",
       "      <td>62</td>\n",
       "      <td>85</td>\n",
       "      <td>84</td>\n",
       "      <td>61</td>\n",
       "      <td>54</td>\n",
       "    </tr>\n",
       "    <tr>\n",
       "      <th>B81 extended range</th>\n",
       "      <td>51</td>\n",
       "      <td>73</td>\n",
       "      <td>77</td>\n",
       "      <td>84</td>\n",
       "      <td>91</td>\n",
       "      <td>90</td>\n",
       "      <td>85</td>\n",
       "      <td>84</td>\n",
       "      <td>61</td>\n",
       "      <td>54</td>\n",
       "    </tr>\n",
       "  </tbody>\n",
       "</table>\n",
       "</div>"
      ],
      "text/plain": [
       "                    250  500  750  1000  1500  2000  3000  4000  6000  8000\n",
       "B81 normal range     18   45   57    56    57    62    85    84    61    54\n",
       "B81 extended range   51   73   77    84    91    90    85    84    61    54"
      ]
     },
     "execution_count": 10,
     "metadata": {},
     "output_type": "execute_result"
    }
   ],
   "source": [
    "execution()"
   ]
  },
  {
   "cell_type": "markdown",
   "id": "b9b1de16",
   "metadata": {},
   "source": [
    "Data are taken from:\n",
    "\n",
    "Karl-Johan Fredén Jansson, Bo Håkansson, Leif Johannsen & Tomas Tengstrand (2015) \n",
    "Electro-acoustic performance of the new bone vibrator Radioear B81: \n",
    "A comparison with the conventional Radioear B71, \n",
    "International Journal of Audiology, 54:5, 334-340, \n",
    "DOI: 10.3109/14992027.2014.980521\n",
    "\n",
    "Fredén Jansson, K. J., Håkansson, B., Reinfeldt, S., Fröhlich, L., & Rahne, T. (2017). Vibrotactile Thresholds on the Mastoid and Forehead Position of Deaf Patients Using Radioear B71 and B81. Ear and hearing, 38(6), 714–723. https://doi.org/10.1097/AUD.0000000000000456\n"
   ]
  }
 ],
 "metadata": {
  "kernelspec": {
   "display_name": "Python 3 (ipykernel)",
   "language": "python",
   "name": "python3"
  },
  "language_info": {
   "codemirror_mode": {
    "name": "ipython",
    "version": 3
   },
   "file_extension": ".py",
   "mimetype": "text/x-python",
   "name": "python",
   "nbconvert_exporter": "python",
   "pygments_lexer": "ipython3",
   "version": "3.8.12"
  }
 },
 "nbformat": 4,
 "nbformat_minor": 5
}
